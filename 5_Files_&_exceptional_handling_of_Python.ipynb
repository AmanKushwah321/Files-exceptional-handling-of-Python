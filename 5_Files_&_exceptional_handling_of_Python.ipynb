{
  "nbformat": 4,
  "nbformat_minor": 0,
  "metadata": {
    "colab": {
      "provenance": []
    },
    "kernelspec": {
      "name": "python3",
      "display_name": "Python 3"
    },
    "language_info": {
      "name": "python"
    }
  },
  "cells": [
    {
      "cell_type": "markdown",
      "source": [
        "#***Assignment=5 Files & exceptional handling of Python***"
      ],
      "metadata": {
        "id": "SafzpIvvsPmB"
      }
    },
    {
      "cell_type": "markdown",
      "source": [
        "# 1. What is the difference between interpreted and compiled languages?\n",
        "Ans:-\n",
        "- Interpreted Languages: Execute code line-by-line at runtime (e.g., Python). No separate compilation step; slower but easier to debug.\n",
        "- Compiled Languages: Translate code into machine language before execution (e.g., C++). Faster but requires compilation.\n",
        "Example: Python interprets `print(\"Hello\")` directly, while C++ needs compilation."
      ],
      "metadata": {
        "id": "iZ4wCcK1sxaT"
      }
    },
    {
      "cell_type": "markdown",
      "source": [
        "# 2. What is exception handling in Python?\n",
        "Ans:-\n",
        "- Exception handling manages errors (e.g., division by zero) during program execution using `try` and `except` blocks, preventing crashes and allowing graceful recovery.\n",
        "Ex:-"
      ],
      "metadata": {
        "id": "ysRmK1_Rsvle"
      }
    },
    {
      "cell_type": "code",
      "source": [
        "try: x = 1/0;\n",
        "except ZeroDivisionError:\n",
        "  print(\"Cannot divide by zero\")"
      ],
      "metadata": {
        "colab": {
          "base_uri": "https://localhost:8080/"
        },
        "id": "87UlBrqktutB",
        "outputId": "554cf9e5-64cc-40e4-e3af-aecdd4da4857"
      },
      "execution_count": 4,
      "outputs": [
        {
          "output_type": "stream",
          "name": "stdout",
          "text": [
            "Cannot divide by zero\n"
          ]
        }
      ]
    },
    {
      "cell_type": "markdown",
      "source": [
        "# 3. What is the purpose of the finally block in exception handling?\n",
        "Ans-:\n",
        "- The `finally` block executes code regardless of whether an exception occurs, typically for cleanup (e.g., closing files).\n",
        "\n",
        "Example:-"
      ],
      "metadata": {
        "id": "ZMQp8BU2uF4Q"
      }
    },
    {
      "cell_type": "code",
      "source": [
        "file = open(\"file1.txt\", \"w\")\n",
        "file.write(\"my name is Aman \\n\")\n",
        "file.write(\"live in Agra\")\n",
        "file.close()\n",
        "\n",
        "try: f=open(\"file1.txt\"); f.read()\n",
        "finally: print(\"Aman file closed.\");\n",
        "f.close()"
      ],
      "metadata": {
        "colab": {
          "base_uri": "https://localhost:8080/"
        },
        "id": "rZzkhdz6JuqR",
        "outputId": "8810d014-cb4e-4e51-af7e-6b3ec248ba96"
      },
      "execution_count": 69,
      "outputs": [
        {
          "output_type": "stream",
          "name": "stdout",
          "text": [
            "Aman file closed.\n"
          ]
        }
      ]
    },
    {
      "cell_type": "markdown",
      "source": [
        "# 4. What is logging in Python?\n",
        "Ans:-\n",
        "- Logging is a way to record events (e.g., errors, info) in a program using the `logging` module, providing a structured way to track execution and debug issues.\n",
        "\n",
        "Example:-"
      ],
      "metadata": {
        "id": "ypHfhNMCuKog"
      }
    },
    {
      "cell_type": "code",
      "source": [
        "logging.error(\"Aman error occurred\")"
      ],
      "metadata": {
        "colab": {
          "base_uri": "https://localhost:8080/"
        },
        "id": "aI9ng-9dKKZM",
        "outputId": "569cf18b-606a-4cce-dad4-1c0c6e6ed4a3"
      },
      "execution_count": 70,
      "outputs": [
        {
          "output_type": "stream",
          "name": "stderr",
          "text": [
            "ERROR:root:Aman error occurred\n"
          ]
        }
      ]
    },
    {
      "cell_type": "markdown",
      "source": [
        "# 5. What is the significance of the `__del__` method in Python?\n",
        "Ans:-\n",
        "- The `__del__` method is a destructor called when an object is garbage collected, used for cleanup (e.g., closing resources), though it’s rarely used due to automatic garbage collection.\n",
        "\n",
        "Example:-"
      ],
      "metadata": {
        "id": "npaZrSAKuLUz"
      }
    },
    {
      "cell_type": "code",
      "source": [
        "class Test:\n",
        "    def __del__(self): print(\"Aman object deleted\")\n",
        "test = Test(); del test"
      ],
      "metadata": {
        "colab": {
          "base_uri": "https://localhost:8080/"
        },
        "id": "1_l8v6rQ0RUJ",
        "outputId": "fdc57e93-18df-4a10-977c-a811a4b2e91a"
      },
      "execution_count": 7,
      "outputs": [
        {
          "output_type": "stream",
          "name": "stdout",
          "text": [
            "Aman’s object deleted\n"
          ]
        }
      ]
    },
    {
      "cell_type": "markdown",
      "source": [
        "# 6. What is the difference between import and from .. import in Python?\n",
        "Ans:-\n",
        "- `import`: Imports an entire module (e.g., `import math`).\n",
        "- `from .. import`: Imports specific items from a module (e.g., `from math import sqrt`).\n",
        "\n",
        "**Difference**: `import` requires module prefix (e.g., `math.sqrt`), while `from .. import` allows direct use (e.g., `sqrt`).\n",
        "\n",
        "Example:-\n"
      ],
      "metadata": {
        "id": "H7_daom3uMWk"
      }
    },
    {
      "cell_type": "code",
      "source": [
        "import math;\n",
        "print(math.pi)"
      ],
      "metadata": {
        "colab": {
          "base_uri": "https://localhost:8080/"
        },
        "id": "2RF_uloA0qH-",
        "outputId": "ee24dd3b-a86a-4ef4-d6b5-7d188e141e2c"
      },
      "execution_count": 9,
      "outputs": [
        {
          "output_type": "stream",
          "name": "stdout",
          "text": [
            "3.141592653589793\n"
          ]
        }
      ]
    },
    {
      "cell_type": "code",
      "source": [
        "from math import pi;\n",
        "print(pi)"
      ],
      "metadata": {
        "colab": {
          "base_uri": "https://localhost:8080/"
        },
        "id": "uGftOGji08Ns",
        "outputId": "58d6621e-aec9-42fb-80e2-bbc41e95b2a9"
      },
      "execution_count": 10,
      "outputs": [
        {
          "output_type": "stream",
          "name": "stdout",
          "text": [
            "3.141592653589793\n"
          ]
        }
      ]
    },
    {
      "cell_type": "markdown",
      "source": [
        "# 7. How can you handle multiple exceptions in Python?\n",
        "Ans:-\n",
        "- Use multiple `except` blocks or a single `except` with a tuple of exceptions to handle different error types.\n",
        "\n",
        "Example:-"
      ],
      "metadata": {
        "id": "ljIS0zouuZeJ"
      }
    },
    {
      "cell_type": "code",
      "source": [
        "try: x = int(\"abc\") / 0\n",
        "except ValueError: print(\"Invalid input\")\n",
        "except ZeroDivisionError: print(\"Division by zero\")"
      ],
      "metadata": {
        "colab": {
          "base_uri": "https://localhost:8080/"
        },
        "id": "hQ1VaT7h1I5t",
        "outputId": "75ebfaf7-a3bf-4c5d-ab0d-4d921967e6e9"
      },
      "execution_count": 11,
      "outputs": [
        {
          "output_type": "stream",
          "name": "stdout",
          "text": [
            "Invalid input\n"
          ]
        }
      ]
    },
    {
      "cell_type": "markdown",
      "source": [
        "# 8. What is the purpose of the with statement when handling files in Python?\n",
        "Ans:-\n",
        "- The `with` statement ensures files are properly opened and closed, handling resource management automatically, even if errors occur.\n",
        "\n",
        "Example:-\n",
        "with open(\"file.txt\") as f:\n",
        "  print(f.read())"
      ],
      "metadata": {
        "id": "Xx4_XqgLucCX"
      }
    },
    {
      "cell_type": "markdown",
      "source": [
        "# 9. What is the difference between multithreading and multiprocessing?\n",
        "Ans:-\n",
        "- **Multithreading**: Runs multiple threads within the same process, sharing memory (e.g., for I/O-bound tasks).\n",
        "- **Multiprocessing**: Runs multiple processes with separate memory (e.g., for CPU-bound tasks).\n",
        "\n",
        "Difference: Multithreading is lighter but limited by the Global Interpreter Lock (GIL) in Python; multiprocessing avoids GIL.\n",
        "\n",
        "Example:-\n",
        "\n",
        "threading.Thread() vs multiprocessing.Process()."
      ],
      "metadata": {
        "id": "mCT32eHdueCj"
      }
    },
    {
      "cell_type": "markdown",
      "source": [
        "# 10. What are the advantages of using logging in a program?\n",
        "Answer:-\n",
        "\n",
        " Logging provides traceable records, debugging support, customizable levels (e.g., INFO, ERROR), and better performance than print statements.\n",
        "\n",
        "Example:-\n",
        "\n",
        "logging.info(\"Aman process started\") tracks execution.\n"
      ],
      "metadata": {
        "id": "-Q1rncdUugx3"
      }
    },
    {
      "cell_type": "markdown",
      "source": [
        "# 11. What is memory management in Python?\n",
        "Ans:-\n",
        "\n",
        "Memory management in Python involves allocating and deallocating memory for objects, handled automatically by the Python memory manager and garbage collector.\n",
        "\n",
        "Example:- Variables are created and deleted automatically."
      ],
      "metadata": {
        "id": "1UiqLn93ulHT"
      }
    },
    {
      "cell_type": "markdown",
      "source": [
        "# 12. What are the basic steps involved in exception handling in Python?\n",
        "Ans:-\n",
        "\n",
        "1. Use `try` to enclose code that might raise an exception.\n",
        "2. Use `except` to handle specific exceptions.\n",
        "3. Optionally use `else` for code if no exception occurs.\n",
        "4. Use `finally` for cleanup.\n",
        "\n",
        "\n",
        "Example:-"
      ],
      "metadata": {
        "id": "88JUNIu9uqRI"
      }
    },
    {
      "cell_type": "code",
      "source": [
        "try: x = int(\"abc\") / 0\n",
        "except ValueError: print(\"Invalid input\")\n",
        "except ZeroDivisionError: print(\"Division by zero\")\n",
        "finally: print(\"Aman file closed.\");"
      ],
      "metadata": {
        "colab": {
          "base_uri": "https://localhost:8080/"
        },
        "id": "eHZEcV_65qz3",
        "outputId": "63938d4f-c81e-41b6-d16a-b63eab78ea23"
      },
      "execution_count": 76,
      "outputs": [
        {
          "output_type": "stream",
          "name": "stdout",
          "text": [
            "Invalid input\n",
            "Aman file closed.\n"
          ]
        }
      ]
    },
    {
      "cell_type": "markdown",
      "source": [
        "# 13. Why is memory management important in Python?\n",
        "Ans:-\n",
        "\n",
        " It prevents memory leaks, optimizes resource usage, and ensures efficient program performance, especially with large datasets.\n",
        "**Example**:- Garbage collection frees unused objects.\n"
      ],
      "metadata": {
        "id": "5NUMtrafutLS"
      }
    },
    {
      "cell_type": "markdown",
      "source": [
        "# 14. What is the role of try and except in exception handling?\n",
        "Ans:-\n",
        "\n",
        "`try` contains code that might fail, while `except` defines how to handle the failure, allowing the program to continue.\n",
        "\n",
        "Example:-"
      ],
      "metadata": {
        "id": "Lo94yR-kuyHf"
      }
    },
    {
      "cell_type": "code",
      "source": [
        "try: x = 1/0;\n",
        "except: print(\"Error\")"
      ],
      "metadata": {
        "colab": {
          "base_uri": "https://localhost:8080/"
        },
        "id": "POQJKVjO6p0r",
        "outputId": "ca2a1599-10c4-432f-d489-9a0e8d96ed29"
      },
      "execution_count": 19,
      "outputs": [
        {
          "output_type": "stream",
          "name": "stdout",
          "text": [
            "Error\n"
          ]
        }
      ]
    },
    {
      "cell_type": "markdown",
      "source": [
        "# 15. How does Python's garbage collection system work?\n",
        "Ans:-\n",
        "\n",
        " Python’s garbage collector reclaims memory by detecting and removing objects with no references, using reference counting and cyclic garbage collection.\n",
        "\n",
        "\n",
        "**Example**:- An object with no references is automatically deleted."
      ],
      "metadata": {
        "id": "mBEx-HKeu0KV"
      }
    },
    {
      "cell_type": "markdown",
      "source": [
        "# 16. What is the purpose of the else block in exception handling?\n",
        "Ans:-\n",
        "\n",
        "The `else` block runs if no exception occurs in the `try` block, useful for code that should execute only on success.\n",
        "\n",
        "Example:-"
      ],
      "metadata": {
        "id": "8rApGhWau2qJ"
      }
    },
    {
      "cell_type": "code",
      "source": [
        "try: x = 10/2\n",
        "except ZeroDivisionError: print(\"Error\")\n",
        "else: print(\"Aman result:\", x)"
      ],
      "metadata": {
        "colab": {
          "base_uri": "https://localhost:8080/"
        },
        "id": "ROXr7OUa7LEV",
        "outputId": "70dc5b4b-ccfe-4265-f9eb-6deabfba7793"
      },
      "execution_count": 21,
      "outputs": [
        {
          "output_type": "stream",
          "name": "stdout",
          "text": [
            "Aman result: 5.0\n"
          ]
        }
      ]
    },
    {
      "cell_type": "markdown",
      "source": [
        "# 17. What are the common logging levels in Python?\n",
        "Ans:-\n",
        "\n",
        " Common levels are DEBUG, INFO, WARNING, ERROR, and CRITICAL, in increasing order of severity.\n",
        "\n",
        "Example:-\n",
        "\n",
        "logging.error(\"Aman error\")\n"
      ],
      "metadata": {
        "id": "Tj-ZOMrbu6ed"
      }
    },
    {
      "cell_type": "markdown",
      "source": [
        "# 18. What is the difference between os.fork() and multiprocessing in Python?\n",
        "Ans:-\n",
        "- `os.fork()`: Creates a new process by duplicating the current one (Unix-specific).\n",
        "- `multiprocessing`: Provides a portable, higher-level API for creating processes.\n",
        "\n",
        "**Difference**: `os.fork()` is low-level and platform-dependent; `multiprocessing` is cross-platform and easier to use.\n",
        "\n",
        "Example:- `import os; os.fork()` vs. `multiprocessing.Process()`.\n"
      ],
      "metadata": {
        "id": "-tGtxUtGu90r"
      }
    },
    {
      "cell_type": "markdown",
      "source": [
        "# 19. What is the importance of closing a file in Python?\n",
        "Ans:-\n",
        "\n",
        "Closing a file releases system resources, prevents data corruption, and ensures changes are saved.\n",
        "\n",
        "\n",
        "Example:- `f.close()` after `f.write()`."
      ],
      "metadata": {
        "id": "hrGXUN8DvN-Q"
      }
    },
    {
      "cell_type": "markdown",
      "source": [
        "# 20. What is the difference between file.read() and file.readline() in Python?\n",
        "Ans:-\n",
        "\n",
        "- `file.read()`: Reads the entire file content as a string.\n",
        "- `file.readline()`: Reads one line at a time.\n",
        "\n",
        "**Difference**: `read()` loads all data; `readline()` is memory-efficient for large files.\n",
        "\n",
        "Example:- `f.read()` vs. `f.readline()`."
      ],
      "metadata": {
        "id": "JSCNwUzkvQDB"
      }
    },
    {
      "cell_type": "markdown",
      "source": [
        "# 21. What is the logging module in Python used for?\n",
        "Ans:-\n",
        "\n",
        " The `logging` module is used to log events (e.g., errors, info) with configurable levels, formats, and output (e.g., file, console).\n",
        "\n",
        "\n",
        "Example:- `logging.basicConfig(); logging.info(\"Aman log\")`."
      ],
      "metadata": {
        "id": "j-CG3pWhvStn"
      }
    },
    {
      "cell_type": "markdown",
      "source": [
        "# 22. What is the os module in Python used for in file handling?\n",
        "Ans:- The `os` module provides functions to interact with the operating system, such as creating, deleting, or checking file existence.\n",
        "\n",
        "\n",
        "Example:- `os.remove(\"file.txt\")`.\n"
      ],
      "metadata": {
        "id": "Cr_o1HqAvVQU"
      }
    },
    {
      "cell_type": "markdown",
      "source": [
        "# 23. What are the challenges associated with memory management in Python?\n",
        "Ans:-\n",
        "\n",
        " Challenges include memory leaks from circular references, inefficient memory use with large objects, and limited control due to automatic management.\n",
        "\n",
        " Example:- Circular references may delay garbage collection.\n"
      ],
      "metadata": {
        "id": "o1ZR4eZyvYNY"
      }
    },
    {
      "cell_type": "markdown",
      "source": [
        "# 24. How do you raise an exception manually in Python?\n",
        "Ans:-\n",
        "\n",
        " Use the `raise` keyword with an exception type (e.g., `ValueError`).\n",
        "\n",
        "\n",
        "Example:- `raise ValueError(\"Aman invalid input\")`.\n"
      ],
      "metadata": {
        "id": "yTVlmnIGvaQ2"
      }
    },
    {
      "cell_type": "markdown",
      "source": [
        "# 25. Why is it important to use multithreading in certain applications?\n",
        "Ans:-\n",
        "\n",
        " Multithreading improves responsiveness in I/O-bound tasks (e.g., file handling, network requests) by allowing concurrent execution within a process.\n",
        "\n",
        "Example:- Parallel file reading with `threading`."
      ],
      "metadata": {
        "id": "QKG8vj9zvcFX"
      }
    },
    {
      "cell_type": "markdown",
      "source": [
        "#***Practical Question***"
      ],
      "metadata": {
        "id": "6fi4a2_Mvgbw"
      }
    },
    {
      "cell_type": "markdown",
      "source": [
        "# 1. How can you open a file for writing in Python and write a string to it?"
      ],
      "metadata": {
        "id": "0o8gEqQev94t"
      }
    },
    {
      "cell_type": "code",
      "source": [
        "with open(\"file2.txt\", \"w\") as f:\n",
        "    f.write(\"my name is Aman.\\n i live in agra.\\n My age is 29.\")              #Using my name\n",
        "print(\"Aman file written.\")           #Aman file written,>> Content in \"file.txt\":>> `Aman text`)"
      ],
      "metadata": {
        "colab": {
          "base_uri": "https://localhost:8080/"
        },
        "id": "w5XU-t7ov_p5",
        "outputId": "13c20046-718c-4dfb-b882-4c5b95a4379c"
      },
      "execution_count": 82,
      "outputs": [
        {
          "output_type": "stream",
          "name": "stdout",
          "text": [
            "Aman file written.\n"
          ]
        }
      ]
    },
    {
      "cell_type": "markdown",
      "source": [
        "# 2. Write a Python program to read the contents of a file and print each line?"
      ],
      "metadata": {
        "id": "FDY_2NJ1wFHe"
      }
    },
    {
      "cell_type": "code",
      "source": [
        "with open(\"file2.txt\", \"r\") as f:\n",
        "    for line in f:\n",
        "        print(f\"Aman reads: {line.strip()}\")"
      ],
      "metadata": {
        "colab": {
          "base_uri": "https://localhost:8080/"
        },
        "id": "NYxkR1TX_KS7",
        "outputId": "b860b757-370d-445d-d3a6-d4ded5c5acc5"
      },
      "execution_count": 84,
      "outputs": [
        {
          "output_type": "stream",
          "name": "stdout",
          "text": [
            "Aman reads: my name is Aman.\n",
            "Aman reads: i live in agra.\n",
            "Aman reads: My age is 29.\n"
          ]
        }
      ]
    },
    {
      "cell_type": "markdown",
      "source": [
        "# 3. How would you handle a case where the file doesn't exist while trying to open it for reading?"
      ],
      "metadata": {
        "id": "iBTAfGuEwVsv"
      }
    },
    {
      "cell_type": "code",
      "source": [
        "try:\n",
        "    with open(\"nonexistent.txt\", \"r\") as f:\n",
        "        content = f.read()\n",
        "except FileNotFoundError:\n",
        "    print(\"Aman: File not found.\")"
      ],
      "metadata": {
        "colab": {
          "base_uri": "https://localhost:8080/"
        },
        "id": "WcborPXkwaPn",
        "outputId": "58b41e47-44a5-4295-e5d0-c718effc58f5"
      },
      "execution_count": 27,
      "outputs": [
        {
          "output_type": "stream",
          "name": "stdout",
          "text": [
            "Aman: File not found.\n"
          ]
        }
      ]
    },
    {
      "cell_type": "markdown",
      "source": [
        "# 4. Write a Python script that reads from one file and writes its content to another file?"
      ],
      "metadata": {
        "id": "kCi9aBeHwcPn"
      }
    },
    {
      "cell_type": "code",
      "source": [
        "#Creat FileA.txt\n",
        "file = open(\"fileA.txt\", \"w\")\n",
        "file.write(\"my name is Aman \\n\")\n",
        "file.write(\"live in Agra\")\n",
        "file.close()\n",
        "\n",
        "#reads from one file and writes its content to another file\n",
        "with open(\"fileA.txt\", \"r\") as infile:\n",
        "  with open(\"fileB.txt\", \"w\") as outfile:\n",
        "    outfile.write(infile.read())\n",
        "print(\"Aman file copied.\")\n",
        "\n",
        "#Read fileB.txt\n",
        "with open(\"fileB.txt\", \"r\") as f:\n",
        "   print(f\"fileB: {lines}\")"
      ],
      "metadata": {
        "colab": {
          "base_uri": "https://localhost:8080/"
        },
        "id": "7gHasiKx_pY7",
        "outputId": "bf5893aa-d3b0-4445-dc26-42396aaf513f"
      },
      "execution_count": 108,
      "outputs": [
        {
          "output_type": "stream",
          "name": "stdout",
          "text": [
            "Aman file copied.\n",
            "fileB: ['my name is Aman', 'live in Agra']\n"
          ]
        }
      ]
    },
    {
      "cell_type": "markdown",
      "source": [
        "# 5. How would you catch and handle division by zero error in Python?"
      ],
      "metadata": {
        "id": "XCgvNw46wg0D"
      }
    },
    {
      "cell_type": "code",
      "source": [
        "try:\n",
        "    result = 10 / 0\n",
        "except ZeroDivisionError:\n",
        "    print(\"Aman: Division by zero error.\")  #i am use my name Aman"
      ],
      "metadata": {
        "colab": {
          "base_uri": "https://localhost:8080/"
        },
        "id": "hYkowlMGwix0",
        "outputId": "5993c9fb-18d1-4b93-bd2e-7eb42c41b199"
      },
      "execution_count": 29,
      "outputs": [
        {
          "output_type": "stream",
          "name": "stdout",
          "text": [
            "Aman: Division by zero error.\n"
          ]
        }
      ]
    },
    {
      "cell_type": "markdown",
      "source": [
        "# 6. Write a Python program that logs an error message to a log file when a division by zero exception occurs?"
      ],
      "metadata": {
        "id": "hsusHRWbwl_O"
      }
    },
    {
      "cell_type": "code",
      "source": [
        "import logging\n",
        "logging.basicConfig(filename=\"error.log\", level=logging.ERROR)\n",
        "try:\n",
        "    result = 10 / 0\n",
        "except ZeroDivisionError:\n",
        "    logging.error(\"Aman division by zero error\")"
      ],
      "metadata": {
        "colab": {
          "base_uri": "https://localhost:8080/"
        },
        "id": "r1kqI_ecwoNl",
        "outputId": "889465d4-7e7c-4692-e67c-35a5e6f0dc75"
      },
      "execution_count": 30,
      "outputs": [
        {
          "output_type": "stream",
          "name": "stderr",
          "text": [
            "ERROR:root:Aman division by zero error\n"
          ]
        }
      ]
    },
    {
      "cell_type": "markdown",
      "source": [
        "# 7. How do you log information at different levels (INFO, ERROR, WARNING) in Python using the logging module?"
      ],
      "metadata": {
        "id": "nKbYB1_SwtZb"
      }
    },
    {
      "cell_type": "code",
      "source": [
        "import logging\n",
        "logging.basicConfig(level=logging.INFO)\n",
        "logging.info(\"Aman info\")\n",
        "logging.warning(\"Aman warning\")\n",
        "logging.error(\"Aman error\")"
      ],
      "metadata": {
        "colab": {
          "base_uri": "https://localhost:8080/"
        },
        "id": "uTXp9rZYwvSB",
        "outputId": "3caaf920-1f86-4a25-f85c-664eff262eb0"
      },
      "execution_count": 31,
      "outputs": [
        {
          "output_type": "stream",
          "name": "stderr",
          "text": [
            "WARNING:root:Aman warning\n",
            "ERROR:root:Aman error\n"
          ]
        }
      ]
    },
    {
      "cell_type": "markdown",
      "source": [
        "# 8. Write a program to handle a file opening error using exception handling?"
      ],
      "metadata": {
        "id": "vNyc9YugwxbM"
      }
    },
    {
      "cell_type": "code",
      "source": [
        "try:\n",
        "    with open(\"nonexistent.txt\", \"r\") as f:\n",
        "        content = f.read()\n",
        "except FileNotFoundError:\n",
        "    print(\"Aman: File not found.\")"
      ],
      "metadata": {
        "colab": {
          "base_uri": "https://localhost:8080/"
        },
        "id": "70Zme_g6wzxS",
        "outputId": "5f4e339d-3c32-450f-ae60-9c2c9ac393c7"
      },
      "execution_count": 42,
      "outputs": [
        {
          "output_type": "stream",
          "name": "stdout",
          "text": [
            "Aman: File not found.\n"
          ]
        }
      ]
    },
    {
      "cell_type": "markdown",
      "source": [
        "# 9. How can you read a file line by line and store its content in a list in Python?"
      ],
      "metadata": {
        "id": "W3Ynr6S3w1hq"
      }
    },
    {
      "cell_type": "code",
      "source": [
        "file = open(\"input.txt\", \"w\")\n",
        "file.write(\"my name is Aman \\n\")\n",
        "file.write(\"live in Agra\")\n",
        "file.close()\n",
        "with open(\"input.txt\", \"r\") as f:\n",
        "    lines = [line.strip() for line in f]\n",
        "print(f\"Aman lines: {lines}\")"
      ],
      "metadata": {
        "colab": {
          "base_uri": "https://localhost:8080/"
        },
        "id": "OE25tITbw3fp",
        "outputId": "077a3da2-79ee-4bc1-9f84-f1bbd9cd3f79"
      },
      "execution_count": 110,
      "outputs": [
        {
          "output_type": "stream",
          "name": "stdout",
          "text": [
            "Aman lines: ['my name is Aman', 'live in Agra']\n"
          ]
        }
      ]
    },
    {
      "cell_type": "markdown",
      "source": [
        "# 10. How can you append data to an existing file in Python?"
      ],
      "metadata": {
        "id": "5F8InKBzw5YZ"
      }
    },
    {
      "cell_type": "code",
      "source": [
        "with open(\"output.txt\", \"a\") as f:\n",
        "    f.write(\"My name is Aman\\n\")\n",
        "print(\"Aman data appended.\")"
      ],
      "metadata": {
        "colab": {
          "base_uri": "https://localhost:8080/"
        },
        "id": "hPbffI05w7kr",
        "outputId": "59934513-038a-40da-98bc-ec114bb4a109"
      },
      "execution_count": 43,
      "outputs": [
        {
          "output_type": "stream",
          "name": "stdout",
          "text": [
            "Aman data appended.\n"
          ]
        }
      ]
    },
    {
      "cell_type": "markdown",
      "source": [
        "# 11. Write a Python program that uses a try-except block to handle an error when attempting to access a dictionary key that doesn't exist?"
      ],
      "metadata": {
        "id": "YqaaU4sBw-c8"
      }
    },
    {
      "cell_type": "code",
      "source": [
        "my_dict = {\"name\": \"Aman\"}\n",
        "try:\n",
        "    value = my_dict[\"age\"]\n",
        "except KeyError:\n",
        "    print(\"Aman: Key not found.\")"
      ],
      "metadata": {
        "colab": {
          "base_uri": "https://localhost:8080/"
        },
        "id": "LD-e7Q43xAcJ",
        "outputId": "dcdade4f-1e2b-4c4a-b251-0d4cce4578a9"
      },
      "execution_count": 44,
      "outputs": [
        {
          "output_type": "stream",
          "name": "stdout",
          "text": [
            "Aman: Key not found.\n"
          ]
        }
      ]
    },
    {
      "cell_type": "markdown",
      "source": [
        "# 12. Write a program that demonstrates using multiple except blocks to handle different types of exceptions?"
      ],
      "metadata": {
        "id": "sGwiwC5QxCHW"
      }
    },
    {
      "cell_type": "code",
      "source": [
        "try:\n",
        "    num = int(\"abc\")/0\n",
        "except ValueError:\n",
        "    print(\"Aman: Invalid conversion.\")\n",
        "except ZeroDivisionError:\n",
        "    print(\"Aman: Division by zero.\")"
      ],
      "metadata": {
        "colab": {
          "base_uri": "https://localhost:8080/"
        },
        "id": "e6zM8aeCxEX5",
        "outputId": "e854f49b-979d-4648-8e0b-12fe9999eaef"
      },
      "execution_count": 45,
      "outputs": [
        {
          "output_type": "stream",
          "name": "stdout",
          "text": [
            "Aman: Invalid conversion.\n"
          ]
        }
      ]
    },
    {
      "cell_type": "markdown",
      "source": [
        "# 13. How would you check if a file exists before attempting to read it in Python?"
      ],
      "metadata": {
        "id": "pE8YXdv6xGBq"
      }
    },
    {
      "cell_type": "code",
      "source": [
        "import os\n",
        "if os.path.exists(\"input.txt\"):\n",
        "    with open(\"input.txt\", \"r\") as f:\n",
        "        print(f.read())\n",
        "else:\n",
        "    print(\"Aman: File does not exist.\")"
      ],
      "metadata": {
        "colab": {
          "base_uri": "https://localhost:8080/"
        },
        "id": "-34pERTbxIqX",
        "outputId": "734a5c34-e812-483d-9862-7bdfccf3036d"
      },
      "execution_count": 46,
      "outputs": [
        {
          "output_type": "stream",
          "name": "stdout",
          "text": [
            "my name is Aman \n",
            "live in Agra\n"
          ]
        }
      ]
    },
    {
      "cell_type": "markdown",
      "source": [
        "# 14. Write a program that uses the logging module to log both informational and error messages?"
      ],
      "metadata": {
        "id": "wOGDtRbCxK8M"
      }
    },
    {
      "cell_type": "code",
      "source": [
        "import logging\n",
        "logging.basicConfig(level=logging.INFO)\n",
        "logging.info(\"Aman process started\")\n",
        "try:\n",
        "    x = 101 / 0\n",
        "except ZeroDivisionError:\n",
        "    logging.error(\"Division error\")"
      ],
      "metadata": {
        "colab": {
          "base_uri": "https://localhost:8080/"
        },
        "id": "GA8MgzEJxS0-",
        "outputId": "369784a7-720c-4dc9-9030-9dbd80f5e42e"
      },
      "execution_count": 48,
      "outputs": [
        {
          "output_type": "stream",
          "name": "stderr",
          "text": [
            "ERROR:root:Division error\n"
          ]
        }
      ]
    },
    {
      "cell_type": "markdown",
      "source": [
        "# 15. Write a Python program that prints the content of a file and handles the case when the file is empty?"
      ],
      "metadata": {
        "id": "g14Zac2ExU0I"
      }
    },
    {
      "cell_type": "code",
      "source": [
        "with open(\"input.txt\", \"r\") as f:\n",
        "    content = f.read()\n",
        "    if not content:\n",
        "        print(\"Aman: File is empty.\")\n",
        "    else:\n",
        "        print(f\"Aman reads: {content}\")"
      ],
      "metadata": {
        "colab": {
          "base_uri": "https://localhost:8080/"
        },
        "id": "JkwZOE7BxYgo",
        "outputId": "00a93ddc-d6bb-407c-d29a-32ef625825b8"
      },
      "execution_count": 49,
      "outputs": [
        {
          "output_type": "stream",
          "name": "stdout",
          "text": [
            "Aman reads: my name is Aman \n",
            "live in Agra\n"
          ]
        }
      ]
    },
    {
      "cell_type": "markdown",
      "source": [
        "# 16. Demonstrate how to use memory profiling to check the memory usage of a small program?"
      ],
      "metadata": {
        "id": "aGL-7rRbxcpW"
      }
    },
    {
      "cell_type": "code",
      "source": [
        "pip install memory-profiler\n"
      ],
      "metadata": {
        "colab": {
          "base_uri": "https://localhost:8080/"
        },
        "id": "T7alnTw6xgRd",
        "outputId": "748f7ae4-bf30-431d-cb60-c32835076319"
      },
      "execution_count": 122,
      "outputs": [
        {
          "output_type": "stream",
          "name": "stdout",
          "text": [
            "Collecting memory-profiler\n",
            "  Downloading memory_profiler-0.61.0-py3-none-any.whl.metadata (20 kB)\n",
            "Requirement already satisfied: psutil in /usr/local/lib/python3.11/dist-packages (from memory-profiler) (5.9.5)\n",
            "Downloading memory_profiler-0.61.0-py3-none-any.whl (31 kB)\n",
            "Installing collected packages: memory-profiler\n",
            "Successfully installed memory-profiler-0.61.0\n"
          ]
        }
      ]
    },
    {
      "cell_type": "code",
      "source": [
        "from memory_profiler import profile\n",
        "@profile\n",
        "def my_function():\n",
        "    a = [1] * (10**6)  # Allocating a list with a million integers\n",
        "    b = [2] * (2 * 10**7)  # Allocating a list with 20 million integers\n",
        "    del b  # Deleting one of the lists\n",
        "    return a\n",
        "\n",
        "if __name__ == \"__main__\":\n",
        "    my_function()"
      ],
      "metadata": {
        "colab": {
          "base_uri": "https://localhost:8080/"
        },
        "id": "YHpBBvPZZ_Ka",
        "outputId": "3dc7853c-ae7a-437e-8767-910326c84092"
      },
      "execution_count": 124,
      "outputs": [
        {
          "output_type": "stream",
          "name": "stderr",
          "text": [
            "\n",
            "PYDEV DEBUGGER WARNING:\n",
            "sys.settrace() should not be used when the debugger is being used.\n",
            "This may cause the debugger to stop working correctly.\n",
            "If this is needed, please check: \n",
            "http://pydev.blogspot.com/2007/06/why-cant-pydev-debugger-work-with.html\n",
            "to see how to restore the debug tracing back correctly.\n",
            "Call Location:\n",
            "  File \"/usr/local/lib/python3.11/dist-packages/memory_profiler.py\", line 847, in enable\n",
            "    sys.settrace(self.trace_memory_usage)\n",
            "\n",
            "\n",
            "PYDEV DEBUGGER WARNING:\n",
            "sys.settrace() should not be used when the debugger is being used.\n",
            "This may cause the debugger to stop working correctly.\n",
            "If this is needed, please check: \n",
            "http://pydev.blogspot.com/2007/06/why-cant-pydev-debugger-work-with.html\n",
            "to see how to restore the debug tracing back correctly.\n",
            "Call Location:\n",
            "  File \"/usr/local/lib/python3.11/dist-packages/memory_profiler.py\", line 850, in disable\n",
            "    sys.settrace(self._original_trace_function)\n",
            "\n"
          ]
        },
        {
          "output_type": "stream",
          "name": "stdout",
          "text": [
            "ERROR: Could not find file /tmp/ipython-input-124-3814586198.py\n"
          ]
        }
      ]
    },
    {
      "cell_type": "markdown",
      "source": [
        "# 17. Write a Python program to create and write a list of numbers to a file, one number per line?"
      ],
      "metadata": {
        "id": "Li28tpDFxnVx"
      }
    },
    {
      "cell_type": "code",
      "source": [
        "numbers = [1, 29, 3, 4]\n",
        "with open(\"numbers1.txt\", \"w\") as f:\n",
        "    for num in numbers:\n",
        "        f.write(f\"{num}\\n\")\n",
        "print(\"Aman numbers written.\")\n",
        "file.close()\n",
        "\n",
        "with open(\"numbers1.txt\", \"r\") as f:\n",
        "  print(f\"number: {num}\")"
      ],
      "metadata": {
        "colab": {
          "base_uri": "https://localhost:8080/"
        },
        "id": "tNl8j0rcxp7i",
        "outputId": "7603847e-c89a-4e04-bd09-b0d1705bb77c"
      },
      "execution_count": 120,
      "outputs": [
        {
          "output_type": "stream",
          "name": "stdout",
          "text": [
            "Aman numbers written.\n",
            "number: 4\n"
          ]
        }
      ]
    },
    {
      "cell_type": "markdown",
      "source": [
        "# 18. How would you implement a basic logging setup that logs to a file with rotation after 1MB?"
      ],
      "metadata": {
        "id": "AYLwV-9Sxro5"
      }
    },
    {
      "cell_type": "code",
      "source": [
        "import logging\n",
        "from logging.handlers import RotatingFileHandler\n",
        "logger = logging.getLogger(\"AmanLogger\")\n",
        "logger.setLevel(logging.INFO)\n",
        "handler = RotatingFileHandler(\"app.log\", maxBytes=1024*1024, backupCount=5)\n",
        "logger.addHandler(handler)\n",
        "logger.info(\"Aman log message\")"
      ],
      "metadata": {
        "colab": {
          "base_uri": "https://localhost:8080/"
        },
        "id": "4NY3NKo5xw8a",
        "outputId": "c72eb243-6417-4cad-8c98-bc5009fd4802"
      },
      "execution_count": 54,
      "outputs": [
        {
          "output_type": "stream",
          "name": "stderr",
          "text": [
            "INFO:AmanLogger:Aman log message\n"
          ]
        }
      ]
    },
    {
      "cell_type": "markdown",
      "source": [
        "# 19. Write a program that handles both IndexError and KeyError using a try-except block?"
      ],
      "metadata": {
        "id": "Gb3ukuOAxzER"
      }
    },
    {
      "cell_type": "code",
      "source": [
        "my_list = [1, 2, 3]\n",
        "my_dict = {\"a\": 1}\n",
        "try:\n",
        "    print(my_list[5])\n",
        "    print(my_dict[\"b\"])\n",
        "except IndexError:\n",
        "    print(\"Aman: Index out of range.\")\n",
        "except KeyError:\n",
        "    print(\"Aman: Key not found.\")"
      ],
      "metadata": {
        "colab": {
          "base_uri": "https://localhost:8080/"
        },
        "id": "A936ld4Jx2jy",
        "outputId": "a330fed2-2926-4973-a53a-ab2fab00ba23"
      },
      "execution_count": 55,
      "outputs": [
        {
          "output_type": "stream",
          "name": "stdout",
          "text": [
            "Aman: Index out of range.\n"
          ]
        }
      ]
    },
    {
      "cell_type": "markdown",
      "source": [
        "# 20. How would you open a file and read its contents using a context manager in Python?"
      ],
      "metadata": {
        "id": "_CzGwBFOx5lm"
      }
    },
    {
      "cell_type": "code",
      "source": [
        "with open(\"input.txt\", \"r\") as f:\n",
        "    content = f.read()\n",
        "    print(f\"Aman reads: {content}\")"
      ],
      "metadata": {
        "colab": {
          "base_uri": "https://localhost:8080/"
        },
        "id": "NEvtZ5azx_--",
        "outputId": "fa797ea1-2746-4710-809d-cffc19b39d14"
      },
      "execution_count": 56,
      "outputs": [
        {
          "output_type": "stream",
          "name": "stdout",
          "text": [
            "Aman reads: my name is Aman \n",
            "live in Agra\n"
          ]
        }
      ]
    },
    {
      "cell_type": "markdown",
      "source": [
        "# 21. Write a Python program that reads a file and prints the number of occurrences of a specific word?"
      ],
      "metadata": {
        "id": "1C9xoLMKyBHL"
      }
    },
    {
      "cell_type": "code",
      "source": [
        "file = open(\"input.txt\", \"w\")\n",
        "file.write(\"my name is Aman \\n\")\n",
        "file.write(\"Aman live in Agra\")\n",
        "file.close()\n",
        "\n",
        "with open(\"input.txt\", \"r\") as f:\n",
        "    content = f.read().lower()\n",
        "    word_count = content.count(\"aman\")\n",
        "    print(f\"Aman found {word_count} times.\")"
      ],
      "metadata": {
        "colab": {
          "base_uri": "https://localhost:8080/"
        },
        "id": "A5oIOCe3yM8b",
        "outputId": "037e49bf-8232-4dbf-8b2b-9912939cb7ec"
      },
      "execution_count": 65,
      "outputs": [
        {
          "output_type": "stream",
          "name": "stdout",
          "text": [
            "Aman found 2 times.\n"
          ]
        }
      ]
    },
    {
      "cell_type": "markdown",
      "source": [
        "# 22. How can you check if a file is empty before attempting to read its contents?"
      ],
      "metadata": {
        "id": "XoDzp1pKyO61"
      }
    },
    {
      "cell_type": "code",
      "source": [
        "file = open(\"input1.txt\", \"w\")\n",
        "file.close()\n",
        "\n",
        "import os\n",
        "if os.path.exists(\"input1.txt\") and os.path.getsize(\"input1.txt\") > 0:\n",
        "    with open(\"input1.txt\", \"r\") as f:\n",
        "        print(f.read())\n",
        "else:\n",
        "    print(\"Aman: File is empty or does not exist.\")"
      ],
      "metadata": {
        "colab": {
          "base_uri": "https://localhost:8080/"
        },
        "id": "d5Fp_MgfyQ4U",
        "outputId": "b00e6cf8-82de-449e-beb8-21a81695b177"
      },
      "execution_count": 67,
      "outputs": [
        {
          "output_type": "stream",
          "name": "stdout",
          "text": [
            "Aman: File is empty or does not exist.\n"
          ]
        }
      ]
    },
    {
      "cell_type": "markdown",
      "source": [
        "# 23. Write a Python program that writes to a log file when an error occurs during file handling?"
      ],
      "metadata": {
        "id": "iuhx3duoySkd"
      }
    },
    {
      "cell_type": "code",
      "source": [
        "import logging\n",
        "logging.basicConfig(filename=\"file_error.log\", level=logging.ERROR)\n",
        "try:\n",
        "    with open(\"nonexistent.txt\", \"r\") as f:\n",
        "        f.read()\n",
        "except FileNotFoundError:\n",
        "    logging.error(\"Aman’s file not found error\")"
      ],
      "metadata": {
        "colab": {
          "base_uri": "https://localhost:8080/"
        },
        "id": "V7yFGLyXyV5c",
        "outputId": "8664044a-21af-4573-934c-7162eccff10e"
      },
      "execution_count": 68,
      "outputs": [
        {
          "output_type": "stream",
          "name": "stderr",
          "text": [
            "ERROR:root:Aman’s file not found error\n"
          ]
        }
      ]
    }
  ]
}